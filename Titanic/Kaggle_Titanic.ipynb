{
 "cells": [
  {
   "cell_type": "markdown",
   "metadata": {},
   "source": [
    "Jupyter Notebook to create a Machine Learning model for the Kaggle Titanic competition "
   ]
  },
  {
   "cell_type": "code",
   "execution_count": 404,
   "metadata": {},
   "outputs": [],
   "source": [
    "import os\n",
    "import pandas as pd\n",
    "import numpy as np\n",
    "from sklearn.preprocessing import OrdinalEncoder\n",
    "from sklearn.model_selection import train_test_split\n",
    "from sklearn.preprocessing import scale\n",
    "from sklearn.svm import SVC\n",
    "from sklearn.metrics import plot_confusion_matrix\n",
    "\n",
    "# We assume that the data from the Kaggle site (train.csv and test.csv) are stored\n",
    "# in a folder called datasets.\n",
    "\n",
    "def load_titanic_data():\n",
    "    csv_path = os.path.join(\"datasets\", \"train.csv\")\n",
    "    return pd.read_csv(csv_path)\n",
    "\n",
    "def load_titanic_test_data():\n",
    "    csv_path = os.path.join(\"datasets\", \"test.csv\")\n",
    "    return pd.read_csv(csv_path)\n",
    "\n",
    "def clean_data(titanic):\n",
    "\n",
    "    # Change the sex from a string to a number\n",
    "    ordinal_encoder = OrdinalEncoder()\n",
    "    sex_cat = titanic[[\"Sex\"]]\n",
    "    sex_enc = ordinal_encoder.fit_transform(sex_cat)\n",
    "    titanic['Sexenc'] = sex_enc\n",
    "    titanic.drop('Sex', axis='columns', inplace=True)\n",
    "    \n",
    "    # Change embarked to a number\n",
    "    titanic[\"Embarked\"] = titanic[\"Embarked\"].fillna('S')\n",
    "    embarked_cat = titanic[['Embarked']]\n",
    "    embarked_enc = ordinal_encoder.fit_transform(embarked_cat)\n",
    "    titanic['Embarkedenc'] = embarked_enc\n",
    "    titanic.drop('Embarked', axis='columns', inplace=True)\n",
    "    \n",
    "    # Change the Fare, fill missing values with median\n",
    "    titanic['Fare'].replace('', np.nan, inplace=True)\n",
    "    mean = titanic['Fare'].mean() \n",
    "    titanic['Fare'].fillna(mean, inplace=True)\n",
    "    titanic['Fare'] = pd.to_numeric(titanic['Fare'])\n",
    "    \n",
    "    titanic = titanic.fillna(\"\")\n",
    "    # The first letter of the Cabin indicates the deck\n",
    "    # Extract the Deck from the Cabin and change it to a number\n",
    "    titanic['Deck'] = titanic['Cabin'].str[:1]\n",
    "    deck_cat = titanic[['Deck']]\n",
    "    deck_enc = ordinal_encoder.fit_transform(deck_cat)\n",
    "    titanic['Deckenc'] = deck_enc\n",
    "    titanic.drop('Deck', axis='columns', inplace=True)\n",
    "    titanic.drop('Cabin', axis='columns', inplace=True)\n",
    "    \n",
    "    # Fill missing values\n",
    "    titanic.loc[titanic['PassengerId'] == 631, 'Age'] = 48\n",
    "    \n",
    "    # Change the age, fill missing values with median\n",
    "    titanic['Age'].replace('', np.nan, inplace=True)\n",
    "    mean = titanic['Age'].mean() \n",
    "    titanic['Age'].fillna(mean, inplace=True)\n",
    "    titanic['Age'] = pd.to_numeric(titanic['Age'])\n",
    "    \n",
    "    # Drop columns that don't have a strong correlation with survived\n",
    "    titanic.drop('SibSp', axis='columns', inplace=True)\n",
    "    titanic.drop('Parch', axis='columns', inplace=True)\n",
    "    titanic.drop('Name', axis='columns', inplace=True)\n",
    "    titanic.drop('Ticket', axis='columns', inplace=True)\n",
    "    \n",
    "    titanic.set_index(\"PassengerId\", inplace = True)\n",
    "    \n",
    "    return titanic\n",
    "\n",
    "def removeOutliers(titanic):\n",
    "    print(titanic.count())\n",
    "    titanic['Fare'] = removeOutliersFromColumn(titanic, \"Fare\")\n",
    "    titanic['Age'] = removeOutliersFromColumn(titanic, \"Age\")\n",
    "    return titanic\n",
    "    \n",
    "def removeOutliersFromColumn(titanic, column):\n",
    "    q_low = titanic[column].quantile(0.01)\n",
    "    q_hi  = titanic[column].quantile(0.99)\n",
    "    print(f\"{q_low} {q_hi}\")\n",
    "    df_filtered = titanic[(titanic[column] < q_hi) & (titanic[column] > q_low)]\n",
    "    return df_filtered\n",
    "    \n",
    "def showCorrelation(titanic):\n",
    "    corr_matrix = titanic.corr().abs()\n",
    "    print(corr_matrix['Survived'].sort_values(ascending=False))\n",
    "    "
   ]
  },
  {
   "cell_type": "code",
   "execution_count": 405,
   "metadata": {},
   "outputs": [
    {
     "name": "stdout",
     "output_type": "stream",
     "text": [
      "Survived       1.000000\n",
      "Sexenc         0.543351\n",
      "Pclass         0.338481\n",
      "Deckenc        0.287944\n",
      "Fare           0.257307\n",
      "Embarkedenc    0.167675\n",
      "Age            0.073724\n",
      "Name: Survived, dtype: float64\n"
     ]
    }
   ],
   "source": [
    "# Clean the data and remove the outliers\n",
    "titanic=load_titanic_data()\n",
    "#disabled removing the outliers as it made the prediction worse \n",
    "#titanic = removeOutliers(titanic) \n",
    "titanic=clean_data(titanic)\n",
    "showCorrelation(titanic)\n",
    "\n"
   ]
  },
  {
   "cell_type": "code",
   "execution_count": 406,
   "metadata": {},
   "outputs": [
    {
     "data": {
      "text/plain": [
       "SVC()"
      ]
     },
     "execution_count": 406,
     "metadata": {},
     "output_type": "execute_result"
    }
   ],
   "source": [
    "# Split the training set from Kaggle into a training set and test set \n",
    "# to be able to evaluate the performance of the model\n",
    "y = titanic['Survived'].copy()\n",
    "titanic.drop('Survived', axis='columns', inplace=True)\n",
    "X_train, X_test, y_train, y_test = train_test_split(titanic, y, random_state=42)\n",
    "# Scale the training and test set.\n",
    "X_train_scaled = scale(X_train)\n",
    "X_test_scaled = scale(X_test)\n",
    "\n",
    "# Create and train the SVM\n",
    "clf_svm = SVC()\n",
    "clf_svm.fit(X_train_scaled, y_train)"
   ]
  },
  {
   "cell_type": "code",
   "execution_count": 407,
   "metadata": {},
   "outputs": [
    {
     "data": {
      "text/plain": [
       "<sklearn.metrics._plot.confusion_matrix.ConfusionMatrixDisplay at 0x14089d1f0>"
      ]
     },
     "execution_count": 407,
     "metadata": {},
     "output_type": "execute_result"
    },
    {
     "data": {
      "image/png": "[encoded data removed]",
      "text/plain": [
       "<Figure size 432x288 with 2 Axes>"
      ]
     },
     "metadata": {
      "needs_background": "light"
     },
     "output_type": "display_data"
    }
   ],
   "source": [
    "plot_confusion_matrix(clf_svm, X_test_scaled, y_test, \n",
    "                      values_format='d', display_labels=['Survived', 'Died'])"
   ]
  },
  {
   "cell_type": "code",
   "execution_count": 408,
   "metadata": {},
   "outputs": [],
   "source": [
    "titanic_test = load_titanic_test_data()\n",
    "result_df = pd.DataFrame(titanic_test['PassengerId'].values)\n",
    "titanic_test = clean_data(titanic_test)\n",
    "X_test_scaled = scale(titanic_test)\n",
    "\n",
    "# used the trained model to predict the survival\n",
    "prediction = pd.DataFrame(clf_svm.predict(X_test_scaled))\n",
    "\n",
    "# format the result according to the requested format from Kaggle \n",
    "result_df['Survived']=prediction\n",
    "result_df=result_df.rename(columns = {0:'PassengerId'})\n",
    "result_df.set_index('PassengerId', inplace=True)\n",
    "# save the result as a CSV file which can be submitted through the Kaggle website\n",
    "result_df.to_csv(\"titanic_prediction.csv\")"
   ]
  }
 ],
 "metadata": {
  "kernelspec": {
   "display_name": "Python 3",
   "language": "python",
   "name": "python3"
  },
  "language_info": {
   "codemirror_mode": {
    "name": "ipython",
    "version": 3
   },
   "file_extension": ".py",
   "mimetype": "text/x-python",
   "name": "python",
   "nbconvert_exporter": "python",
   "pygments_lexer": "ipython3",
   "version": "3.8.5"
  }
 },
 "nbformat": 4,
 "nbformat_minor": 4
}
